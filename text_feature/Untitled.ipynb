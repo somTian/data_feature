{
 "cells": [
  {
   "cell_type": "markdown",
   "metadata": {},
   "source": [
    "[Approaching (Almost) Any NLP Problem on Kaggle](\"https://www.kaggle.com/abhishek/approaching-almost-any-nlp-problem-on-kaggle/notebook\")"
   ]
  },
  {
   "cell_type": "markdown",
   "metadata": {},
   "source": [
    "在这篇文章中，我将讨论在Kaggle上处理自然语言处理问题。 作为一个例子，我们将使用Spooky Author Identification比赛的数据。 我们将首先创建一个非常基本的第一个模型，然后使用不同的其他功能来改进它，我们还将看到如何使用深度的神经网络训练。在本文的结束会有一些关于整体的一些想法。"
   ]
  },
  {
   "cell_type": "markdown",
   "metadata": {},
   "source": [
    "算法包括\n",
    "- tfidf\n",
    "- count features\n",
    "- logistic regression\n",
    "- naive bayes\n",
    "- svm\n",
    "- xgboost\n",
    "- grid search\n",
    "- word vectors\n",
    "- LSTM\n",
    "- GRU\n",
    "- Ensembling\n",
    "\n",
    "注意：这个笔记本不是为了在这个数据集的排行榜上获得非常高的分数。 但是，如果您正确地遵循，则可以通过一些调整获得非常高的分数。\n",
    "\n",
    "所以，不要浪费任何时间，让我们开始导入一些我将要使用的重要的python模块。"
   ]
  },
  {
   "cell_type": "code",
   "execution_count": null,
   "metadata": {
    "collapsed": true
   },
   "outputs": [],
   "source": [
    "import pandas as pd\n",
    "import numpy as np\n",
    "import xgboost as xgb\n",
    "from tqdm import tqdm\n",
    "from sklearn.svm import SVC\n",
    "from keras.layers.recurrent import LSTM, GRU\n",
    "from keras.layers import Dense, Activaton"
   ]
  }
 ],
 "metadata": {
  "anaconda-cloud": {},
  "kernelspec": {
   "display_name": "Python [conda root]",
   "language": "python",
   "name": "conda-root-py"
  },
  "language_info": {
   "codemirror_mode": {
    "name": "ipython",
    "version": 3
   },
   "file_extension": ".py",
   "mimetype": "text/x-python",
   "name": "python",
   "nbconvert_exporter": "python",
   "pygments_lexer": "ipython3",
   "version": "3.5.2"
  }
 },
 "nbformat": 4,
 "nbformat_minor": 1
}
